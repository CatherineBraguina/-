{
  "nbformat": 4,
  "nbformat_minor": 0,
  "metadata": {
    "colab": {
      "provenance": [],
      "authorship_tag": "ABX9TyOarbdk3vVERkaPPku7AOQq",
      "include_colab_link": true
    },
    "kernelspec": {
      "name": "python3",
      "display_name": "Python 3"
    },
    "language_info": {
      "name": "python"
    }
  },
  "cells": [
    {
      "cell_type": "markdown",
      "metadata": {
        "id": "view-in-github",
        "colab_type": "text"
      },
      "source": [
        "<a href=\"https://colab.research.google.com/github/CatherineBraguina/-/blob/main/%D0%9F%D0%B0%D0%BC%D1%8F%D1%82%D0%BA%D0%B0_%D0%BF%D0%BE_R.ipynb\" target=\"_parent\"><img src=\"https://colab.research.google.com/assets/colab-badge.svg\" alt=\"Open In Colab\"/></a>"
      ]
    },
    {
      "cell_type": "markdown",
      "source": [
        "# создание подключения"
      ],
      "metadata": {
        "id": "Z9v4AwmhU4Pj"
      }
    },
    {
      "cell_type": "code",
      "execution_count": null,
      "metadata": {
        "id": "DBtnvOtdUKfA"
      },
      "outputs": [],
      "source": [
        "\n",
        "# Установка необходимых пакетов\n",
        "install.packages(\"DBI\")\n",
        "install.packages(\"RMySQL\")\n",
        "\n",
        "# Подключение пакетов\n",
        "library(DBI)\n",
        "library(RMySQL)\n",
        "\n",
        "# Подключение к базе данных\n",
        "con <- dbConnect(\n",
        "  RMySQL::MySQL(),\n",
        "  dbname = \"имя_базы_данных\",\n",
        "  host = \"localhost\",\n",
        "  user = \"имя_пользователя\",\n",
        "  password = \"пароль\"\n",
        ")\n",
        "\n",
        "# Проверка соединения\n",
        "dbListTables(con)\n",
        "\n",
        "# Закрыть соединение после работы\n",
        "dbDisconnect(con)\n"
      ]
    },
    {
      "cell_type": "markdown",
      "source": [
        "# вывод текста"
      ],
      "metadata": {
        "id": "oo5K3h38Vded"
      }
    },
    {
      "cell_type": "code",
      "source": [
        "# вывод текста с enter\n",
        "cat(\"text<>%$@--__\\n\")\n",
        "print()"
      ],
      "metadata": {
        "id": "N1xC9jbRUSLx"
      },
      "execution_count": null,
      "outputs": []
    },
    {
      "cell_type": "markdown",
      "source": [
        "# определить количество строк/колонок"
      ],
      "metadata": {
        "id": "1ejwQXQ_VlNR"
      }
    },
    {
      "cell_type": "code",
      "source": [
        "# определить количество строк/колонок\n",
        "nrow(tablename)\n",
        "ncol(tablename)"
      ],
      "metadata": {
        "id": "MIrapsrSUSOl"
      },
      "execution_count": null,
      "outputs": []
    },
    {
      "cell_type": "markdown",
      "source": [
        "диапазон"
      ],
      "metadata": {
        "id": "n2-L4wJOV5pN"
      }
    },
    {
      "cell_type": "code",
      "source": [
        "# если хотим строки с 1 по 20 и все колонки\n",
        "train <- tablename[1:20,]\n",
        "test <- tablename[21:32,]\n",
        "# если хотим строки с 1 по 10 и 2 колонки\n",
        "sample <- tablename[1:10, 1:2]"
      ],
      "metadata": {
        "id": "5Sc1HHuhUSRc"
      },
      "execution_count": null,
      "outputs": []
    },
    {
      "cell_type": "code",
      "source": [
        "#рандомно насобирать тестовую и контроьные выборки\n",
        "# Загружаем данные mtcars\n",
        "data(mtcars)\n",
        "\n",
        "# Устанавливаем.seed для воспроизводимости\n",
        "set.seed(123)\n",
        "\n",
        "# Определяем размер тестовой выборки (например, 20% от всех данных)\n",
        "test_size <- 0.2\n",
        "n <- nrow(mtcars)\n",
        "\n",
        "# Генерируем случайные индексы для тестовой выборки\n",
        "test_indices <- sample(1:n, size = floor(test_size * n))\n",
        "\n",
        "# Создаём тестовую выборку\n",
        "test_data <- mtcars[test_indices, ]\n",
        "\n",
        "# Создаём обучающую выборку, исключая тестовые индексы\n",
        "train_data <- mtcars[-test_indices, ]\n",
        "\n",
        "# Проверяем размеры выборок\n",
        "cat(\"Размер обучающей выборки:\", nrow(train_data), \"\\n\")\n",
        "cat(\"Размер тестовой выборки:\", nrow(test_data), \"\\n\")"
      ],
      "metadata": {
        "id": "mztns_PHZ-vm"
      },
      "execution_count": null,
      "outputs": []
    },
    {
      "cell_type": "markdown",
      "source": [
        "# функции для вычисления регрессии, классификации, кластеризации\n",
        "\n",
        "-  ⁠*Регрессия:* ⁠ lm() ⁠ для линейной регрессии.\n",
        "- ⁠*Классификация:* ⁠ glm() ⁠ для логистической регрессии или использование пакета ⁠ caret ⁠ для более сложных методов.\n",
        "- ⁠*Кластеризация:* ⁠ kmeans() ⁠ для алгоритма K-средних, ⁠ hclust() ⁠ для иерархической кластеризации.\n",
        "\n"
      ],
      "metadata": {
        "id": "4MtFWNTUW8i4"
      }
    },
    {
      "cell_type": "code",
      "source": [
        "# линейная регрессия (пример отсюда https://rdrr.io/snippets/)\n",
        "\n",
        "# Загружаем данные mtcars\n",
        "data(mtcars)\n",
        "\n",
        "# Устанавливаем.seed для воспроизводимости\n",
        "set.seed(123)\n",
        "\n",
        "nrow(mtcars)\n",
        "\n",
        "train <- mtcars[1:20,]\n",
        "test <- mtcars[21:32,]\n",
        "\n",
        "model1 = lm(mpg~.,train) #\".\", тк все колонки\n",
        "prognoz1 = predict(model1,test)\n",
        "\n",
        "res =prognoz1-test$mpg\n",
        "\n",
        "# среднее + модуль\n",
        "mean(abs(res))"
      ],
      "metadata": {
        "id": "-EZZ9Nr1USWp"
      },
      "execution_count": null,
      "outputs": []
    },
    {
      "cell_type": "markdown",
      "source": [
        "# сгенеренные от балды примеры"
      ],
      "metadata": {
        "id": "CWHRMGBwXa2G"
      }
    },
    {
      "cell_type": "code",
      "source": [
        "#### Линейная регрессия\n",
        "# Генерация данных\n",
        "set.seed(123)\n",
        "x <- rnorm(100)\n",
        "y <- 3 * x + rnorm(100)\n",
        "\n",
        "# Построение модели\n",
        "model <- lm(y ~ x)\n",
        "summary(model)\n",
        "\n",
        "# Предсказание\n",
        "predictions <- predict(model)\n",
        "\n",
        "# График\n",
        "plot(x, y)\n",
        "abline(model, col = \"red\")\n",
        "title(\"Линейная регрессия\")"
      ],
      "metadata": {
        "colab": {
          "base_uri": "https://localhost:8080/",
          "height": 105
        },
        "id": "Xe6-7bNJUSZw",
        "outputId": "9126901d-da27-4f7b-a20b-ad9cd69eefa7"
      },
      "execution_count": 2,
      "outputs": [
        {
          "output_type": "error",
          "ename": "SyntaxError",
          "evalue": "invalid syntax. Perhaps you forgot a comma? (<ipython-input-2-44c16c16fca3>, line 8)",
          "traceback": [
            "\u001b[0;36m  File \u001b[0;32m\"<ipython-input-2-44c16c16fca3>\"\u001b[0;36m, line \u001b[0;32m8\u001b[0m\n\u001b[0;31m    model <- lm(y ~ x)\u001b[0m\n\u001b[0m                ^\u001b[0m\n\u001b[0;31mSyntaxError\u001b[0m\u001b[0;31m:\u001b[0m invalid syntax. Perhaps you forgot a comma?\n"
          ]
        }
      ]
    },
    {
      "cell_type": "code",
      "source": [
        "#### Логистическая регрессия\n",
        "\n",
        "# Генерация данных\n",
        "set.seed(123)\n",
        "x <- rnorm(100)\n",
        "y <- ifelse(3 * x + rnorm(100) > 0, 1, 0)\n",
        "\n",
        "# Построение логистической регрессии\n",
        "model_logistic <- glm(y ~ x, family = binomial)\n",
        "summary(model_logistic)\n",
        "\n",
        "# Предсказание\n",
        "predicted_probabilities <- predict(model_logistic, type = \"response\")\n",
        "\n",
        "# График\n",
        "plot(x, predicted_probabilities, type = \"l\", col = \"blue\")\n",
        "points(x, y, pch = 20)\n",
        "title(\"Логистическая регрессия\")"
      ],
      "metadata": {
        "id": "DPPSLF1xUScv"
      },
      "execution_count": null,
      "outputs": []
    },
    {
      "cell_type": "code",
      "source": [
        "#### Кластеризация (K-средние)\n",
        "# Генерация данных\n",
        "set.seed(123)\n",
        "data <- rbind(matrix(rnorm(100, mean = 1), ncol = 2),\n",
        "               matrix(rnorm(100, mean = 5), ncol = 2))\n",
        "\n",
        "# Кластеризация\n",
        "kmeans_result <- kmeans(data, centers = 2)\n",
        "\n",
        "# График\n",
        "plot(data, col = kmeans_result$cluster)\n",
        "points(kmeans_result$centers, col = \"red\", pch = 8, cex = 2)\n",
        "title(\"Кластеризация K-средних\")"
      ],
      "metadata": {
        "id": "W4OjW7GUUSff"
      },
      "execution_count": null,
      "outputs": []
    },
    {
      "cell_type": "code",
      "source": [],
      "metadata": {
        "id": "4DGAWrKWUSh2"
      },
      "execution_count": null,
      "outputs": []
    },
    {
      "cell_type": "code",
      "source": [],
      "metadata": {
        "id": "dxpknqELUSkf"
      },
      "execution_count": null,
      "outputs": []
    },
    {
      "cell_type": "code",
      "source": [],
      "metadata": {
        "id": "g372uPljUSnJ"
      },
      "execution_count": null,
      "outputs": []
    }
  ]
}