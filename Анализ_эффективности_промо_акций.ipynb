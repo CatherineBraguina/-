{
  "nbformat": 4,
  "nbformat_minor": 0,
  "metadata": {
    "colab": {
      "provenance": [],
      "authorship_tag": "ABX9TyPizGa1sa6mYwKj7oN92pNm",
      "include_colab_link": true
    },
    "kernelspec": {
      "name": "python3",
      "display_name": "Python 3"
    },
    "language_info": {
      "name": "python"
    }
  },
  "cells": [
    {
      "cell_type": "markdown",
      "metadata": {
        "id": "view-in-github",
        "colab_type": "text"
      },
      "source": [
        "<a href=\"https://colab.research.google.com/github/CatherineBraguina/-/blob/main/%D0%90%D0%BD%D0%B0%D0%BB%D0%B8%D0%B7_%D1%8D%D1%84%D1%84%D0%B5%D0%BA%D1%82%D0%B8%D0%B2%D0%BD%D0%BE%D1%81%D1%82%D0%B8_%D0%BF%D1%80%D0%BE%D0%BC%D0%BE_%D0%B0%D0%BA%D1%86%D0%B8%D0%B9.ipynb\" target=\"_parent\"><img src=\"https://colab.research.google.com/assets/colab-badge.svg\" alt=\"Open In Colab\"/></a>"
      ]
    },
    {
      "cell_type": "markdown",
      "source": [
        "### 1. Анализ эффективности промо-акций\n",
        "\n",
        "*Методы анализа:*\n",
        "-  ⁠*Сравнение продаж до и после акции.*\n",
        "-  ⁠*Возврат на инвестиции (ROI):* ((Выручка от промо - Затраты на промо) / Затраты на промо) * 100\n",
        "-  ⁠*Анализ прироста продаж:* Сравнение объемов продаж до, во время и после акции."
      ],
      "metadata": {
        "id": "h7fg50jFNZsv"
      }
    },
    {
      "cell_type": "code",
      "execution_count": 1,
      "metadata": {
        "id": "R7yckTiPNU7g"
      },
      "outputs": [],
      "source": [
        "#импорт библиотек\n",
        "import pandas as pd"
      ]
    },
    {
      "cell_type": "code",
      "source": [
        "# создаем данные и фрейм\n",
        "data = {\n",
        "    'date': pd.date_range(start='2023-01-01', periods=30),\n",
        "    'sales': [100, 110, 105, 200, 220, 210, 300, 320, 310, 150] + [100] * 20\n",
        "}\n",
        "df = pd.DataFrame(data)"
      ],
      "metadata": {
        "id": "AdGi4HKaN892"
      },
      "execution_count": 2,
      "outputs": []
    },
    {
      "cell_type": "code",
      "source": [
        "# Расчет средней продажи до, во время и после акции\n",
        "before_promo = df['sales'][:3].mean()\n",
        "during_promo = df['sales'][3:7].mean()\n",
        "after_promo = df['sales'][7:].mean()\n",
        "\n",
        "print(f\"Средние продажи до акции: {before_promo}\")\n",
        "print(f\"Средние продажи во время акции: {during_promo}\")\n",
        "print(f\"Средние продажи после акции: {after_promo}\")\n"
      ],
      "metadata": {
        "colab": {
          "base_uri": "https://localhost:8080/"
        },
        "id": "T_bP-MsoOHVJ",
        "outputId": "10517530-4ce7-4b8b-ef5f-8b79c5ef9e9f"
      },
      "execution_count": 3,
      "outputs": [
        {
          "output_type": "stream",
          "name": "stdout",
          "text": [
            "Средние продажи до акции: 105.0\n",
            "Средние продажи во время акции: 232.5\n",
            "Средние продажи после акции: 120.8695652173913\n"
          ]
        }
      ]
    },
    {
      "cell_type": "code",
      "source": [
        "# ROI\n",
        "cost_of_promo = 1000 # Затраты на акцию\n",
        "revenue_from_promo = (during_promo * 4) - cost_of_promo\n",
        "roi = (revenue_from_promo / cost_of_promo) * 100\n",
        "print(f\"ROI: {roi}%\")"
      ],
      "metadata": {
        "colab": {
          "base_uri": "https://localhost:8080/"
        },
        "id": "szwt9sBkOIoz",
        "outputId": "d5b94c34-aa15-445b-cbc0-10aad7b10c1c"
      },
      "execution_count": 4,
      "outputs": [
        {
          "output_type": "stream",
          "name": "stdout",
          "text": [
            "ROI: -7.000000000000001%\n"
          ]
        }
      ]
    },
    {
      "cell_type": "markdown",
      "source": [
        "# Зачем считать ROI ?\n",
        "\n",
        "1. Оценить эффективность затрат на рекламу.\n",
        "2. Спланировать маркетинговый бюджет.\n",
        "3. Понять, в каких каналах трафика бизнесу выгоднее продавать товары и услуги.\n",
        "\n",
        "# ! РАЗНИЦА ROI, ROMI, ROAS !\n",
        "\n",
        "- ROAS (возврат на рекламные расходы)\n",
        "- ROMI (возврат на инвестиции в маркетинг)\n",
        "- ROI (возврат на инвестиции)\n",
        "\n",
        "ROI = ROMI (затраты на маркетинг: на рекламу, печать листовок, написание текстов райтерами и так далее. А вот, например, затраты на зарплату сотрудников или производство продукта не учитываются) + ROAS (расходы на рекламу и доходы, которые были с неё получены)"
      ],
      "metadata": {
        "id": "5XKKTTI5Q4O6"
      }
    },
    {
      "cell_type": "markdown",
      "source": [
        "### 3. Прогнозирование следующих промо\n",
        "\n",
        "Для прогнозирования может быть использован метод временных рядов или регрессионный анализ. Один из распространенных методов — линейная регрессия."
      ],
      "metadata": {
        "id": "3EyAcXM5QHJa"
      }
    },
    {
      "cell_type": "code",
      "source": [
        "#импорт библиотек\n",
        "from sklearn.model_selection import train_test_split\n",
        "from sklearn.linear_model import LinearRegression\n",
        "import numpy as np"
      ],
      "metadata": {
        "id": "mnycMFc2QMZ7"
      },
      "execution_count": 5,
      "outputs": []
    },
    {
      "cell_type": "code",
      "source": [
        "#создаем данные\n",
        "data = {\n",
        "    'promo_days': [1, 2, 3, 4, 5, 6, 7],\n",
        "    'sales': [110, 150, 130, 220, 300, 270, 320]\n",
        "}\n",
        "df = pd.DataFrame(data)"
      ],
      "metadata": {
        "id": "ocSYsg71P5X2"
      },
      "execution_count": 6,
      "outputs": []
    },
    {
      "cell_type": "code",
      "source": [
        "# Разделение на признаки и целевую переменную\n",
        "X = df[['promo_days']]\n",
        "y = df['sales']"
      ],
      "metadata": {
        "id": "_n6ghc0_QWdM"
      },
      "execution_count": 7,
      "outputs": []
    },
    {
      "cell_type": "code",
      "source": [
        "# Разделение на тренировочную и тестовую выборки\n",
        "X_train, X_test, y_train, y_test = train_test_split(X, y, test_size=0.2, random_state=42)"
      ],
      "metadata": {
        "id": "bp5r7xswQZQJ"
      },
      "execution_count": 8,
      "outputs": []
    },
    {
      "cell_type": "code",
      "source": [
        "# Создание модели\n",
        "model = LinearRegression()\n",
        "model.fit(X_train, y_train)"
      ],
      "metadata": {
        "colab": {
          "base_uri": "https://localhost:8080/",
          "height": 80
        },
        "id": "BHWN_q6eQbUd",
        "outputId": "da11a2e4-dbd9-4e4a-bfc9-2e4932538127"
      },
      "execution_count": 9,
      "outputs": [
        {
          "output_type": "execute_result",
          "data": {
            "text/plain": [
              "LinearRegression()"
            ],
            "text/html": [
              "<style>#sk-container-id-1 {\n",
              "  /* Definition of color scheme common for light and dark mode */\n",
              "  --sklearn-color-text: #000;\n",
              "  --sklearn-color-text-muted: #666;\n",
              "  --sklearn-color-line: gray;\n",
              "  /* Definition of color scheme for unfitted estimators */\n",
              "  --sklearn-color-unfitted-level-0: #fff5e6;\n",
              "  --sklearn-color-unfitted-level-1: #f6e4d2;\n",
              "  --sklearn-color-unfitted-level-2: #ffe0b3;\n",
              "  --sklearn-color-unfitted-level-3: chocolate;\n",
              "  /* Definition of color scheme for fitted estimators */\n",
              "  --sklearn-color-fitted-level-0: #f0f8ff;\n",
              "  --sklearn-color-fitted-level-1: #d4ebff;\n",
              "  --sklearn-color-fitted-level-2: #b3dbfd;\n",
              "  --sklearn-color-fitted-level-3: cornflowerblue;\n",
              "\n",
              "  /* Specific color for light theme */\n",
              "  --sklearn-color-text-on-default-background: var(--sg-text-color, var(--theme-code-foreground, var(--jp-content-font-color1, black)));\n",
              "  --sklearn-color-background: var(--sg-background-color, var(--theme-background, var(--jp-layout-color0, white)));\n",
              "  --sklearn-color-border-box: var(--sg-text-color, var(--theme-code-foreground, var(--jp-content-font-color1, black)));\n",
              "  --sklearn-color-icon: #696969;\n",
              "\n",
              "  @media (prefers-color-scheme: dark) {\n",
              "    /* Redefinition of color scheme for dark theme */\n",
              "    --sklearn-color-text-on-default-background: var(--sg-text-color, var(--theme-code-foreground, var(--jp-content-font-color1, white)));\n",
              "    --sklearn-color-background: var(--sg-background-color, var(--theme-background, var(--jp-layout-color0, #111)));\n",
              "    --sklearn-color-border-box: var(--sg-text-color, var(--theme-code-foreground, var(--jp-content-font-color1, white)));\n",
              "    --sklearn-color-icon: #878787;\n",
              "  }\n",
              "}\n",
              "\n",
              "#sk-container-id-1 {\n",
              "  color: var(--sklearn-color-text);\n",
              "}\n",
              "\n",
              "#sk-container-id-1 pre {\n",
              "  padding: 0;\n",
              "}\n",
              "\n",
              "#sk-container-id-1 input.sk-hidden--visually {\n",
              "  border: 0;\n",
              "  clip: rect(1px 1px 1px 1px);\n",
              "  clip: rect(1px, 1px, 1px, 1px);\n",
              "  height: 1px;\n",
              "  margin: -1px;\n",
              "  overflow: hidden;\n",
              "  padding: 0;\n",
              "  position: absolute;\n",
              "  width: 1px;\n",
              "}\n",
              "\n",
              "#sk-container-id-1 div.sk-dashed-wrapped {\n",
              "  border: 1px dashed var(--sklearn-color-line);\n",
              "  margin: 0 0.4em 0.5em 0.4em;\n",
              "  box-sizing: border-box;\n",
              "  padding-bottom: 0.4em;\n",
              "  background-color: var(--sklearn-color-background);\n",
              "}\n",
              "\n",
              "#sk-container-id-1 div.sk-container {\n",
              "  /* jupyter's `normalize.less` sets `[hidden] { display: none; }`\n",
              "     but bootstrap.min.css set `[hidden] { display: none !important; }`\n",
              "     so we also need the `!important` here to be able to override the\n",
              "     default hidden behavior on the sphinx rendered scikit-learn.org.\n",
              "     See: https://github.com/scikit-learn/scikit-learn/issues/21755 */\n",
              "  display: inline-block !important;\n",
              "  position: relative;\n",
              "}\n",
              "\n",
              "#sk-container-id-1 div.sk-text-repr-fallback {\n",
              "  display: none;\n",
              "}\n",
              "\n",
              "div.sk-parallel-item,\n",
              "div.sk-serial,\n",
              "div.sk-item {\n",
              "  /* draw centered vertical line to link estimators */\n",
              "  background-image: linear-gradient(var(--sklearn-color-text-on-default-background), var(--sklearn-color-text-on-default-background));\n",
              "  background-size: 2px 100%;\n",
              "  background-repeat: no-repeat;\n",
              "  background-position: center center;\n",
              "}\n",
              "\n",
              "/* Parallel-specific style estimator block */\n",
              "\n",
              "#sk-container-id-1 div.sk-parallel-item::after {\n",
              "  content: \"\";\n",
              "  width: 100%;\n",
              "  border-bottom: 2px solid var(--sklearn-color-text-on-default-background);\n",
              "  flex-grow: 1;\n",
              "}\n",
              "\n",
              "#sk-container-id-1 div.sk-parallel {\n",
              "  display: flex;\n",
              "  align-items: stretch;\n",
              "  justify-content: center;\n",
              "  background-color: var(--sklearn-color-background);\n",
              "  position: relative;\n",
              "}\n",
              "\n",
              "#sk-container-id-1 div.sk-parallel-item {\n",
              "  display: flex;\n",
              "  flex-direction: column;\n",
              "}\n",
              "\n",
              "#sk-container-id-1 div.sk-parallel-item:first-child::after {\n",
              "  align-self: flex-end;\n",
              "  width: 50%;\n",
              "}\n",
              "\n",
              "#sk-container-id-1 div.sk-parallel-item:last-child::after {\n",
              "  align-self: flex-start;\n",
              "  width: 50%;\n",
              "}\n",
              "\n",
              "#sk-container-id-1 div.sk-parallel-item:only-child::after {\n",
              "  width: 0;\n",
              "}\n",
              "\n",
              "/* Serial-specific style estimator block */\n",
              "\n",
              "#sk-container-id-1 div.sk-serial {\n",
              "  display: flex;\n",
              "  flex-direction: column;\n",
              "  align-items: center;\n",
              "  background-color: var(--sklearn-color-background);\n",
              "  padding-right: 1em;\n",
              "  padding-left: 1em;\n",
              "}\n",
              "\n",
              "\n",
              "/* Toggleable style: style used for estimator/Pipeline/ColumnTransformer box that is\n",
              "clickable and can be expanded/collapsed.\n",
              "- Pipeline and ColumnTransformer use this feature and define the default style\n",
              "- Estimators will overwrite some part of the style using the `sk-estimator` class\n",
              "*/\n",
              "\n",
              "/* Pipeline and ColumnTransformer style (default) */\n",
              "\n",
              "#sk-container-id-1 div.sk-toggleable {\n",
              "  /* Default theme specific background. It is overwritten whether we have a\n",
              "  specific estimator or a Pipeline/ColumnTransformer */\n",
              "  background-color: var(--sklearn-color-background);\n",
              "}\n",
              "\n",
              "/* Toggleable label */\n",
              "#sk-container-id-1 label.sk-toggleable__label {\n",
              "  cursor: pointer;\n",
              "  display: flex;\n",
              "  width: 100%;\n",
              "  margin-bottom: 0;\n",
              "  padding: 0.5em;\n",
              "  box-sizing: border-box;\n",
              "  text-align: center;\n",
              "  align-items: start;\n",
              "  justify-content: space-between;\n",
              "  gap: 0.5em;\n",
              "}\n",
              "\n",
              "#sk-container-id-1 label.sk-toggleable__label .caption {\n",
              "  font-size: 0.6rem;\n",
              "  font-weight: lighter;\n",
              "  color: var(--sklearn-color-text-muted);\n",
              "}\n",
              "\n",
              "#sk-container-id-1 label.sk-toggleable__label-arrow:before {\n",
              "  /* Arrow on the left of the label */\n",
              "  content: \"▸\";\n",
              "  float: left;\n",
              "  margin-right: 0.25em;\n",
              "  color: var(--sklearn-color-icon);\n",
              "}\n",
              "\n",
              "#sk-container-id-1 label.sk-toggleable__label-arrow:hover:before {\n",
              "  color: var(--sklearn-color-text);\n",
              "}\n",
              "\n",
              "/* Toggleable content - dropdown */\n",
              "\n",
              "#sk-container-id-1 div.sk-toggleable__content {\n",
              "  max-height: 0;\n",
              "  max-width: 0;\n",
              "  overflow: hidden;\n",
              "  text-align: left;\n",
              "  /* unfitted */\n",
              "  background-color: var(--sklearn-color-unfitted-level-0);\n",
              "}\n",
              "\n",
              "#sk-container-id-1 div.sk-toggleable__content.fitted {\n",
              "  /* fitted */\n",
              "  background-color: var(--sklearn-color-fitted-level-0);\n",
              "}\n",
              "\n",
              "#sk-container-id-1 div.sk-toggleable__content pre {\n",
              "  margin: 0.2em;\n",
              "  border-radius: 0.25em;\n",
              "  color: var(--sklearn-color-text);\n",
              "  /* unfitted */\n",
              "  background-color: var(--sklearn-color-unfitted-level-0);\n",
              "}\n",
              "\n",
              "#sk-container-id-1 div.sk-toggleable__content.fitted pre {\n",
              "  /* unfitted */\n",
              "  background-color: var(--sklearn-color-fitted-level-0);\n",
              "}\n",
              "\n",
              "#sk-container-id-1 input.sk-toggleable__control:checked~div.sk-toggleable__content {\n",
              "  /* Expand drop-down */\n",
              "  max-height: 200px;\n",
              "  max-width: 100%;\n",
              "  overflow: auto;\n",
              "}\n",
              "\n",
              "#sk-container-id-1 input.sk-toggleable__control:checked~label.sk-toggleable__label-arrow:before {\n",
              "  content: \"▾\";\n",
              "}\n",
              "\n",
              "/* Pipeline/ColumnTransformer-specific style */\n",
              "\n",
              "#sk-container-id-1 div.sk-label input.sk-toggleable__control:checked~label.sk-toggleable__label {\n",
              "  color: var(--sklearn-color-text);\n",
              "  background-color: var(--sklearn-color-unfitted-level-2);\n",
              "}\n",
              "\n",
              "#sk-container-id-1 div.sk-label.fitted input.sk-toggleable__control:checked~label.sk-toggleable__label {\n",
              "  background-color: var(--sklearn-color-fitted-level-2);\n",
              "}\n",
              "\n",
              "/* Estimator-specific style */\n",
              "\n",
              "/* Colorize estimator box */\n",
              "#sk-container-id-1 div.sk-estimator input.sk-toggleable__control:checked~label.sk-toggleable__label {\n",
              "  /* unfitted */\n",
              "  background-color: var(--sklearn-color-unfitted-level-2);\n",
              "}\n",
              "\n",
              "#sk-container-id-1 div.sk-estimator.fitted input.sk-toggleable__control:checked~label.sk-toggleable__label {\n",
              "  /* fitted */\n",
              "  background-color: var(--sklearn-color-fitted-level-2);\n",
              "}\n",
              "\n",
              "#sk-container-id-1 div.sk-label label.sk-toggleable__label,\n",
              "#sk-container-id-1 div.sk-label label {\n",
              "  /* The background is the default theme color */\n",
              "  color: var(--sklearn-color-text-on-default-background);\n",
              "}\n",
              "\n",
              "/* On hover, darken the color of the background */\n",
              "#sk-container-id-1 div.sk-label:hover label.sk-toggleable__label {\n",
              "  color: var(--sklearn-color-text);\n",
              "  background-color: var(--sklearn-color-unfitted-level-2);\n",
              "}\n",
              "\n",
              "/* Label box, darken color on hover, fitted */\n",
              "#sk-container-id-1 div.sk-label.fitted:hover label.sk-toggleable__label.fitted {\n",
              "  color: var(--sklearn-color-text);\n",
              "  background-color: var(--sklearn-color-fitted-level-2);\n",
              "}\n",
              "\n",
              "/* Estimator label */\n",
              "\n",
              "#sk-container-id-1 div.sk-label label {\n",
              "  font-family: monospace;\n",
              "  font-weight: bold;\n",
              "  display: inline-block;\n",
              "  line-height: 1.2em;\n",
              "}\n",
              "\n",
              "#sk-container-id-1 div.sk-label-container {\n",
              "  text-align: center;\n",
              "}\n",
              "\n",
              "/* Estimator-specific */\n",
              "#sk-container-id-1 div.sk-estimator {\n",
              "  font-family: monospace;\n",
              "  border: 1px dotted var(--sklearn-color-border-box);\n",
              "  border-radius: 0.25em;\n",
              "  box-sizing: border-box;\n",
              "  margin-bottom: 0.5em;\n",
              "  /* unfitted */\n",
              "  background-color: var(--sklearn-color-unfitted-level-0);\n",
              "}\n",
              "\n",
              "#sk-container-id-1 div.sk-estimator.fitted {\n",
              "  /* fitted */\n",
              "  background-color: var(--sklearn-color-fitted-level-0);\n",
              "}\n",
              "\n",
              "/* on hover */\n",
              "#sk-container-id-1 div.sk-estimator:hover {\n",
              "  /* unfitted */\n",
              "  background-color: var(--sklearn-color-unfitted-level-2);\n",
              "}\n",
              "\n",
              "#sk-container-id-1 div.sk-estimator.fitted:hover {\n",
              "  /* fitted */\n",
              "  background-color: var(--sklearn-color-fitted-level-2);\n",
              "}\n",
              "\n",
              "/* Specification for estimator info (e.g. \"i\" and \"?\") */\n",
              "\n",
              "/* Common style for \"i\" and \"?\" */\n",
              "\n",
              ".sk-estimator-doc-link,\n",
              "a:link.sk-estimator-doc-link,\n",
              "a:visited.sk-estimator-doc-link {\n",
              "  float: right;\n",
              "  font-size: smaller;\n",
              "  line-height: 1em;\n",
              "  font-family: monospace;\n",
              "  background-color: var(--sklearn-color-background);\n",
              "  border-radius: 1em;\n",
              "  height: 1em;\n",
              "  width: 1em;\n",
              "  text-decoration: none !important;\n",
              "  margin-left: 0.5em;\n",
              "  text-align: center;\n",
              "  /* unfitted */\n",
              "  border: var(--sklearn-color-unfitted-level-1) 1pt solid;\n",
              "  color: var(--sklearn-color-unfitted-level-1);\n",
              "}\n",
              "\n",
              ".sk-estimator-doc-link.fitted,\n",
              "a:link.sk-estimator-doc-link.fitted,\n",
              "a:visited.sk-estimator-doc-link.fitted {\n",
              "  /* fitted */\n",
              "  border: var(--sklearn-color-fitted-level-1) 1pt solid;\n",
              "  color: var(--sklearn-color-fitted-level-1);\n",
              "}\n",
              "\n",
              "/* On hover */\n",
              "div.sk-estimator:hover .sk-estimator-doc-link:hover,\n",
              ".sk-estimator-doc-link:hover,\n",
              "div.sk-label-container:hover .sk-estimator-doc-link:hover,\n",
              ".sk-estimator-doc-link:hover {\n",
              "  /* unfitted */\n",
              "  background-color: var(--sklearn-color-unfitted-level-3);\n",
              "  color: var(--sklearn-color-background);\n",
              "  text-decoration: none;\n",
              "}\n",
              "\n",
              "div.sk-estimator.fitted:hover .sk-estimator-doc-link.fitted:hover,\n",
              ".sk-estimator-doc-link.fitted:hover,\n",
              "div.sk-label-container:hover .sk-estimator-doc-link.fitted:hover,\n",
              ".sk-estimator-doc-link.fitted:hover {\n",
              "  /* fitted */\n",
              "  background-color: var(--sklearn-color-fitted-level-3);\n",
              "  color: var(--sklearn-color-background);\n",
              "  text-decoration: none;\n",
              "}\n",
              "\n",
              "/* Span, style for the box shown on hovering the info icon */\n",
              ".sk-estimator-doc-link span {\n",
              "  display: none;\n",
              "  z-index: 9999;\n",
              "  position: relative;\n",
              "  font-weight: normal;\n",
              "  right: .2ex;\n",
              "  padding: .5ex;\n",
              "  margin: .5ex;\n",
              "  width: min-content;\n",
              "  min-width: 20ex;\n",
              "  max-width: 50ex;\n",
              "  color: var(--sklearn-color-text);\n",
              "  box-shadow: 2pt 2pt 4pt #999;\n",
              "  /* unfitted */\n",
              "  background: var(--sklearn-color-unfitted-level-0);\n",
              "  border: .5pt solid var(--sklearn-color-unfitted-level-3);\n",
              "}\n",
              "\n",
              ".sk-estimator-doc-link.fitted span {\n",
              "  /* fitted */\n",
              "  background: var(--sklearn-color-fitted-level-0);\n",
              "  border: var(--sklearn-color-fitted-level-3);\n",
              "}\n",
              "\n",
              ".sk-estimator-doc-link:hover span {\n",
              "  display: block;\n",
              "}\n",
              "\n",
              "/* \"?\"-specific style due to the `<a>` HTML tag */\n",
              "\n",
              "#sk-container-id-1 a.estimator_doc_link {\n",
              "  float: right;\n",
              "  font-size: 1rem;\n",
              "  line-height: 1em;\n",
              "  font-family: monospace;\n",
              "  background-color: var(--sklearn-color-background);\n",
              "  border-radius: 1rem;\n",
              "  height: 1rem;\n",
              "  width: 1rem;\n",
              "  text-decoration: none;\n",
              "  /* unfitted */\n",
              "  color: var(--sklearn-color-unfitted-level-1);\n",
              "  border: var(--sklearn-color-unfitted-level-1) 1pt solid;\n",
              "}\n",
              "\n",
              "#sk-container-id-1 a.estimator_doc_link.fitted {\n",
              "  /* fitted */\n",
              "  border: var(--sklearn-color-fitted-level-1) 1pt solid;\n",
              "  color: var(--sklearn-color-fitted-level-1);\n",
              "}\n",
              "\n",
              "/* On hover */\n",
              "#sk-container-id-1 a.estimator_doc_link:hover {\n",
              "  /* unfitted */\n",
              "  background-color: var(--sklearn-color-unfitted-level-3);\n",
              "  color: var(--sklearn-color-background);\n",
              "  text-decoration: none;\n",
              "}\n",
              "\n",
              "#sk-container-id-1 a.estimator_doc_link.fitted:hover {\n",
              "  /* fitted */\n",
              "  background-color: var(--sklearn-color-fitted-level-3);\n",
              "}\n",
              "</style><div id=\"sk-container-id-1\" class=\"sk-top-container\"><div class=\"sk-text-repr-fallback\"><pre>LinearRegression()</pre><b>In a Jupyter environment, please rerun this cell to show the HTML representation or trust the notebook. <br />On GitHub, the HTML representation is unable to render, please try loading this page with nbviewer.org.</b></div><div class=\"sk-container\" hidden><div class=\"sk-item\"><div class=\"sk-estimator fitted sk-toggleable\"><input class=\"sk-toggleable__control sk-hidden--visually\" id=\"sk-estimator-id-1\" type=\"checkbox\" checked><label for=\"sk-estimator-id-1\" class=\"sk-toggleable__label fitted sk-toggleable__label-arrow\"><div><div>LinearRegression</div></div><div><a class=\"sk-estimator-doc-link fitted\" rel=\"noreferrer\" target=\"_blank\" href=\"https://scikit-learn.org/1.6/modules/generated/sklearn.linear_model.LinearRegression.html\">?<span>Documentation for LinearRegression</span></a><span class=\"sk-estimator-doc-link fitted\">i<span>Fitted</span></span></div></label><div class=\"sk-toggleable__content fitted\"><pre>LinearRegression()</pre></div> </div></div></div></div>"
            ]
          },
          "metadata": {},
          "execution_count": 9
        }
      ]
    },
    {
      "cell_type": "code",
      "source": [
        "# Прогнозирование\n",
        "future_promos = np.array([[8], [9], [10]]).reshape(-1, 1)\n",
        "predictions = model.predict(future_promos)"
      ],
      "metadata": {
        "colab": {
          "base_uri": "https://localhost:8080/"
        },
        "id": "FqMSuGTjQdkO",
        "outputId": "07ef02d4-25a2-45e2-f02c-8621c1bbc651"
      },
      "execution_count": 10,
      "outputs": [
        {
          "output_type": "stream",
          "name": "stderr",
          "text": [
            "/usr/local/lib/python3.11/dist-packages/sklearn/utils/validation.py:2739: UserWarning: X does not have valid feature names, but LinearRegression was fitted with feature names\n",
            "  warnings.warn(\n"
          ]
        }
      ]
    },
    {
      "cell_type": "code",
      "source": [
        "display(f\"Прогноз продаж на следующие акции: {predictions}\")"
      ],
      "metadata": {
        "colab": {
          "base_uri": "https://localhost:8080/",
          "height": 35
        },
        "id": "p2N3QVzQQeb6",
        "outputId": "efc9094a-43d4-4c50-9f4b-02df98486439"
      },
      "execution_count": 11,
      "outputs": [
        {
          "output_type": "display_data",
          "data": {
            "text/plain": [
              "'Прогноз продаж на следующие акции: [377. 420. 463.]'"
            ],
            "application/vnd.google.colaboratory.intrinsic+json": {
              "type": "string"
            }
          },
          "metadata": {}
        }
      ]
    },
    {
      "cell_type": "markdown",
      "source": [
        "### 2. Расчет эффекта каннибализации\n",
        "\n",
        "Эффект каннибализации возникает, когда акционные товары \"отнимают\" продажи у других товаров.\n",
        "\n",
        "*Пример:*\n",
        "•⁠  ⁠Пусть у нас есть два продукта: A и B. Мы запускаем акцию на продукт A и анализируем, как это влияет на продажи продукта B.\n",
        "\n"
      ],
      "metadata": {
        "id": "zk3Y6bWwPr-h"
      }
    },
    {
      "cell_type": "code",
      "source": [
        "WITH sales_data AS (\n",
        "    SELECT product,\n",
        "           date,\n",
        "           SUM(sales) AS total_sales\n",
        "    FROM sales\n",
        "    WHERE date BETWEEN '2023-01-01' AND '2023-01-30'\n",
        "    GROUP BY product, date\n",
        "),\n",
        "promo_effect AS (\n",
        "    SELECT\n",
        "        date,\n",
        "        SUM(CASE WHEN product = 'A' THEN total_sales ELSE 0 END) AS sales_A,\n",
        "        SUM(CASE WHEN product = 'B' THEN total_sales ELSE 0 END) AS sales_B\n",
        "    FROM sales_data\n",
        "    GROUP BY date\n",
        ")\n",
        "SELECT\n",
        "    AVG(sales_A) AS avg_sales_A,\n",
        "    AVG(sales_B) AS avg_sales_B,\n",
        "    (AVG(sales_B) - AVG(sales_B) OVER (PARTITION BY date ORDER BY date ROWS BETWEEN 6 PRECEDING AND CURRENT ROW)) AS cannibalization_effect\n",
        "FROM promo_effect;\n",
        " ⁠\n"
      ],
      "metadata": {
        "id": "YFK4wy6XQwQ_"
      },
      "execution_count": null,
      "outputs": []
    },
    {
      "cell_type": "markdown",
      "source": [
        " # Бонус - расчет доппоказателей\n",
        " - CPO (стоимость привлечения одной покупки)\n",
        " - средний чек,\n",
        " - LTV (пожизненная ценность клиента),\n",
        " - доход,\n",
        " - расход\n",
        " - выручка с рекламы"
      ],
      "metadata": {
        "id": "MOzWytW6SInc"
      }
    },
    {
      "cell_type": "markdown",
      "source": [
        "•⁠  ⁠*CPO* рассчитывается как общая стоимость рекламы, деленная на количество продаж.\n",
        "•⁠  ⁠*Средний чек* — это общий доход, деленный на количество продаж.\n",
        "•⁠  ⁠*LTV* (пожизненная ценность клиента) здесь предполагается как средний чек, умноженный на 12 (для случаев, когда клиент совершает покупки 12 раз в год).\n",
        "•⁠  ⁠*ROAS, **ROMI* и *ROI* рассчитываются на основе общей выручки и расходов на рекламу и показывают рентабельность рекламных инвестиций.\n",
        "\n",
        "### Разница между показателями\n",
        "•⁠  ⁠*CPO* показывает, сколько стоит привлечение одной продажи, в то время как *ROMI, **ROAS* и *ROI* показывают окупаемость бюджета, потраченного на рекламу.\n",
        "•⁠  ⁠*Средний чек* и **"
      ],
      "metadata": {
        "id": "4rdpzrqHSje7"
      }
    },
    {
      "cell_type": "markdown",
      "source": [
        "Предположим, у нас есть следующие таблицы:\n",
        "-  ⁠⁠ sales ⁠ — продажи (id, customer_id, amount, date)\n",
        "-  ⁠⁠ ads ⁠ — реклама (id, cost, revenue, date)"
      ],
      "metadata": {
        "id": "Eh5X-nnYSve6"
      }
    },
    {
      "cell_type": "code",
      "source": [
        "SELECT\n",
        "    SUM(s.amount) AS total_revenue,\n",
        "    COUNT(s.id) AS total_sales,\n",
        "    SUM(a.cost) AS total_ad_cost,\n",
        "    SUM(a.revenue) AS total_ad_revenue\n",
        "FROM\n",
        "    sales s\n",
        "JOIN\n",
        "    ads a ON DATE(s.date) = DATE(a.date)\n",
        "WHERE\n",
        "    s.date BETWEEN '2023-01-01' AND '2023-12-31';\n",
        " ⁠"
      ],
      "metadata": {
        "id": "y7OhG1RCSYfq"
      },
      "execution_count": null,
      "outputs": []
    },
    {
      "cell_type": "markdown",
      "source": [
        "с помощью Python считаем показатели"
      ],
      "metadata": {
        "id": "RojzpwfcTBQS"
      }
    },
    {
      "cell_type": "code",
      "source": [
        "import sqlite3\n",
        "\n",
        "# Создаем подключение к базе данных (предположим, что у нас SQLite).\n",
        "connection = sqlite3.connect('your_database.db')\n",
        "cursor = connection.cursor()\n",
        "\n",
        "# Выполняем SQL запрос для извлечения необходимых данных.\n",
        "query = \"\"\"\n",
        "SELECT\n",
        "    SUM(s.amount) AS total_revenue,\n",
        "    COUNT(s.id) AS total_sales,\n",
        "    SUM(a.cost) AS total_ad_cost,\n",
        "    SUM(a.revenue) AS total_ad_revenue\n",
        "FROM\n",
        "    sales s\n",
        "JOIN\n",
        "    ads a ON DATE(s.date) = DATE(a.date)\n",
        "WHERE\n",
        "    s.date BETWEEN '2023-01-01' AND '2023-12-31';\n",
        "\"\"\"\n",
        "cursor.execute(query)\n",
        "\n",
        "# Извлекаем результаты.\n",
        "result = cursor.fetchone()\n",
        "total_revenue, total_sales, total_ad_cost, total_ad_revenue = result\n",
        "\n",
        "# Расчеты\n",
        "def calculate_metrics(total_revenue, total_sales, total_ad_cost):\n",
        "    # CPO (стоимость привлечения одной покупки)\n",
        "    cpo = total_ad_cost / total_sales if total_sales > 0 else 0\n",
        "\n",
        "    # Средний чек\n",
        "    average_check = total_revenue / total_sales if total_sales > 0 else 0\n",
        "\n",
        "    # LTV (пожизненная ценность клиента)\n",
        "    ltv = average_check * 12  # Предположим, что средний клиент совершает покупку 12 раз в год\n",
        "\n",
        "    # ROAS (возврат на рекламные расходы)\n",
        "    roas = total_ad_revenue / total_ad_cost if total_ad_cost > 0 else 0\n",
        "\n",
        "    # ROMI (возврат на инвестиции в маркетинг)\n",
        "    romi = (total_revenue - total_ad_cost) / total_ad_cost if total_ad_cost > 0 else 0\n",
        "\n",
        "    # ROI (возврат на инвестиции)\n",
        "    roi = (total_revenue - total_ad_cost) / total_ad_cost if total_ad_cost > 0 else 0\n",
        "\n",
        "    return {\n",
        "        \"CPO\": cpo,\n",
        "        \"Average Check\": average_check,\n",
        "        \"LTV\": ltv,\n",
        "        \"ROAS\": roas,\n",
        "        \"ROMI\": romi,\n",
        "        \"ROI\": roi\n",
        "    }\n",
        "\n",
        "# Вычисляем показатели\n",
        "metrics = calculate_metrics(total_revenue, total_sales, total_ad_cost)\n",
        "\n",
        "# Выводим результаты\n",
        "for metric, value in metrics.items():\n",
        "    print(f\"{metric}: {value:.2f}\")\n",
        "\n",
        "# Закрываем соединение\n",
        "connection.close()\n",
        " ⁠"
      ],
      "metadata": {
        "id": "1ht51bLoTBaZ"
      },
      "execution_count": null,
      "outputs": []
    }
  ]
}