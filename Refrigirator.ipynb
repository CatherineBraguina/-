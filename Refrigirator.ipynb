{
  "nbformat": 4,
  "nbformat_minor": 0,
  "metadata": {
    "colab": {
      "provenance": [],
      "authorship_tag": "ABX9TyPD3tOSyW8TY9gtapum3F4e"
    },
    "kernelspec": {
      "name": "python3",
      "display_name": "Python 3"
    },
    "language_info": {
      "name": "python"
    }
  },
  "cells": [
    {
      "cell_type": "code",
      "execution_count": 1,
      "metadata": {
        "id": "PDVzmLpbwWGN"
      },
      "outputs": [],
      "source": [
        "import pandas as pd"
      ]
    },
    {
      "cell_type": "code",
      "source": [
        "#импортировали библиотеки\n",
        "from datetime import datetime\n",
        "from decimal import Decimal, getcontext"
      ],
      "metadata": {
        "id": "PH4hmX3BZOQn"
      },
      "execution_count": 2,
      "outputs": []
    },
    {
      "cell_type": "code",
      "source": [
        "# сделали константу для формата времени\n",
        "DATE_FORMAT = '%Y-%m-%d'\n",
        "# создали словарь\n",
        "goods = {}"
      ],
      "metadata": {
        "id": "vA2HhyjHZUqk"
      },
      "execution_count": 3,
      "outputs": []
    },
    {
      "cell_type": "markdown",
      "source": [
        "Функция add добавляет новый продукт в список items.\n",
        "\n",
        "Возвращает новый элемент продукта с указанным объемом amount и датой истечения срока годности expiration_date (если указана). Если продукт с таким названием уже существует в списке, то просто добавляет новое количество для продукта.\n",
        "\n",
        "Обработка даты за счет datetime.strptime и date позволяет корректно определить формат даты в дате истечения срока годности (если был передан параметр expiration_date)."
      ],
      "metadata": {
        "id": "_jOACVGAx0OX"
      }
    },
    {
      "cell_type": "code",
      "source": [
        "\n",
        "def add(items, title, amount, expiration_date=None):\n",
        "    if expiration_date is not None: # если данные в формате : add(goods, 'Яйца', Decimal('10'), '2023-9-30')\n",
        "        exp_format = datetime.strptime(expiration_date, DATE_FORMAT) # сначала парсим строку expiration_date в объект datetime с помощью метода strptime,\n",
        "        exp_date = date(exp_format.year, exp_format.month, exp_format.day) # а затем вызываем метод date() для получения только объекта date.\n",
        "    else: # если то же самое, НО без даты\n",
        "        exp_date = None\n",
        "\n",
        "    if title not in items: # делаем формат вывода по условию: если товара 'Яйца' еще нет в списке\n",
        "        items[title] = [{'amount':amount, 'expiration_date': exp_date}]\n",
        "    else: # если они там есть\n",
        "        items[title].append({'amount': amount, 'expiration_date': exp_date})\n",
        "\n",
        "\n",
        ""
      ],
      "metadata": {
        "id": "ZRDkNroEpaHa"
      },
      "execution_count": 4,
      "outputs": []
    },
    {
      "cell_type": "markdown",
      "source": [
        "Функция add_by_note упрощает добавление нового продукта в список items на основе строки note.\n",
        "\n",
        "Разбивает строку по пробелам для извлечения названия продукта, объема и даты истечения срока годности (если передано).\n",
        "\n",
        "\n",
        "После извлечения параметров title, amount и expiration_date функция вызывает функцию add с полученными значениями."
      ],
      "metadata": {
        "id": "H8Q2dDUGx9_9"
      }
    },
    {
      "cell_type": "code",
      "source": [
        "def add_by_note(items, note): # для add_by_note(goods, 'Яйца гусиные 4 2023-07-15')\n",
        "    note_split = note.split() # делим строку ['Яйца', 'гусиные', '4', '2023-07-15']\n",
        "    if '-' in note: # если в дате есть -, а оно есть, то\n",
        "        expiration_date = note_split[-1] #дата - первый отрезок с конца\n",
        "        amount = Decimal(note_split[-2]) #количество - второй отрезок с конца\n",
        "        title = ' '.join(note_split[0:-2]) # все остальное - название продукта\n",
        "    else:\n",
        "        expiration_date = None\n",
        "        amount = Decimal(note_split[-1])\n",
        "        title = ' '.join(note_split[0:-1])\n",
        "    add(items, title, amount, expiration_date)\n",
        ""
      ],
      "metadata": {
        "id": "ELYWghnYxyWh"
      },
      "execution_count": 5,
      "outputs": []
    },
    {
      "cell_type": "code",
      "source": [
        "string = 'Яйца гусиные 4 2023-07-15'\n",
        "spl = string.split()\n",
        "spl"
      ],
      "metadata": {
        "colab": {
          "base_uri": "https://localhost:8080/"
        },
        "id": "mjANcamTztGA",
        "outputId": "94ceebc7-eecb-4d83-c73c-b65be4d9db85"
      },
      "execution_count": 6,
      "outputs": [
        {
          "output_type": "execute_result",
          "data": {
            "text/plain": [
              "['Яйца', 'гусиные', '4', '2023-07-15']"
            ]
          },
          "metadata": {},
          "execution_count": 6
        }
      ]
    },
    {
      "cell_type": "markdown",
      "source": [
        "Функция find выполняет поиск в списке items по названию элемента (продукта) needle (в тч части слова), игнорируя регистр. Возвращает список всех найденных элементов"
      ],
      "metadata": {
        "id": "EoCkTDpNyJG1"
      }
    },
    {
      "cell_type": "code",
      "source": [
        "def find(items, needle):\n",
        "    res = [] #создали пустой список\n",
        "    for title in items: # ищем что нам там надо в items\n",
        "        if needle.lower() in title.lower(): # с игнором регистра\n",
        "            res.append(title) # все, что подошло, запихиваем в res\n",
        "    return res\n"
      ],
      "metadata": {
        "id": "2qbq4IEKxykA"
      },
      "execution_count": 7,
      "outputs": []
    },
    {
      "cell_type": "markdown",
      "source": [
        "Функция amount ищет и возвращает общее значение объема для всех элементов в списке items, которые входят в результат поиска функцией find по элементу needle."
      ],
      "metadata": {
        "id": "Mcw6Rh1MyJnY"
      }
    },
    {
      "cell_type": "code",
      "source": [
        "\n",
        "def amount(items, needle):\n",
        "    found_items = find(items, needle) # чтобы при суммировании учитывались  только товары, содержащие в названии значение needle сохраняем эту историю в доппеременную\n",
        "    value = Decimal('0')\n",
        "    for title in found_items:\n",
        "        for item in items[title]:\n",
        "            value += item['amount']\n",
        "    return value\n"
      ],
      "metadata": {
        "id": "kvPMcvlMxysJ"
      },
      "execution_count": 8,
      "outputs": []
    },
    {
      "cell_type": "markdown",
      "source": [
        "Функция expire фильтрует элементы списка items по дате истечения срока годности (в пределах in_advance_days).\n",
        "\n",
        "Возвращается список элементов с датой истечения срока годности, которые менее или равны текущей даты, и их количество (указанное в expired_sum)."
      ],
      "metadata": {
        "id": "q_T_biN8yKL1"
      }
    },
    {
      "cell_type": "code",
      "source": [
        "def expire(items, in_advance_days=0):\n",
        "    result = []\n",
        "    expiration_date = date.today() + timedelta(days=in_advance_days)\n",
        "    for title in items:\n",
        "        expired_sum = Decimal('0')  # Перемещение инициализации переменной expired_sum, чтобы она обнулялась перед подсчетом суммы просроченных продуктов каждого тайтла\n",
        "        for item in items[title]:\n",
        "            if item['expiration_date'] is not None and item['expiration_date'] <= expiration_date:\n",
        "                expired_sum += item['amount']\n",
        "        if expired_sum > 0:\n",
        "            result.append((title, expired_sum))\n",
        "    return result"
      ],
      "metadata": {
        "id": "7JqcOe2PxyzJ"
      },
      "execution_count": 9,
      "outputs": []
    }
  ]
}