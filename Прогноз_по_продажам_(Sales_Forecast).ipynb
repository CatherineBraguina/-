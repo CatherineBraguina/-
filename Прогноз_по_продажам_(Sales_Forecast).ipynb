{
  "nbformat": 4,
  "nbformat_minor": 0,
  "metadata": {
    "colab": {
      "provenance": [],
      "authorship_tag": "ABX9TyPTVRWEV3rNLAYzWyW44Qp7",
      "include_colab_link": true
    },
    "kernelspec": {
      "name": "python3",
      "display_name": "Python 3"
    },
    "language_info": {
      "name": "python"
    }
  },
  "cells": [
    {
      "cell_type": "markdown",
      "metadata": {
        "id": "view-in-github",
        "colab_type": "text"
      },
      "source": [
        "<a href=\"https://colab.research.google.com/github/CatherineBraguina/-/blob/main/%D0%9F%D1%80%D0%BE%D0%B3%D0%BD%D0%BE%D0%B7_%D0%BF%D0%BE_%D0%BF%D1%80%D0%BE%D0%B4%D0%B0%D0%B6%D0%B0%D0%BC_(Sales_Forecast).ipynb\" target=\"_parent\"><img src=\"https://colab.research.google.com/assets/colab-badge.svg\" alt=\"Open In Colab\"/></a>"
      ]
    },
    {
      "cell_type": "markdown",
      "source": [
        "## 1. Python\n",
        "\n",
        "- pandas\n",
        "- statsmodels\n",
        "- numpy\n",
        "\n",
        "!!!!! используем *ARIMA* !!!!!\n",
        "\n",
        "sm.tsa.arima.ARIMA() ⁠ — это класс в библиотеке ⁠ statsmodels ⁠, который используется для построения моделей авторегрессии, интегрированного скользящего среднего (ARIMA) для временных рядов.\n",
        "\n",
        "# Параметры класса:\n",
        "\n",
        "1.⁠ ⁠*endog*:\n",
        "   - Это основной параметр, представляющий собой зависимую переменную (временной ряд), который мы хотим смоделировать. Обычно это одномерный массив значений временного ряда.\n",
        "\n",
        "2.⁠ ⁠*order*:\n",
        "   - Это кортеж из трех значений, представляющий собой порядок модели ARIMA. Он имеет следующую структуру: ⁠ (p, d, q) ⁠, где:\n",
        "     - ⁠ p ⁠ — порядок авторегрессии (количество лагов);\n",
        "     - ⁠ d ⁠ — степень интегрирования (количество раз, которые временной ряд должен быть разностным, чтобы стать стационарным);\n",
        "     - ⁠ q ⁠ — порядок скользящего среднего (количество лагов ошибок).\n",
        "\n",
        "3.⁠ ⁠*exog* (по умолчанию None):\n",
        "   - Это опциональный параметр, который позволяет включить внешние регрессоры (независимые переменные) в модель. Если у вас есть дополнительная информация, которая может влиять на зависимую переменную, вы можете использовать этот параметр, чтобы включить её в модель.\n",
        "\n",
        "4.⁠ ⁠*dates* (по умолчанию None):\n",
        "   - Этот параметр позволяет указать индексы временных меток для наблюдений, если эти метки имеют значение для вашего анализа. Например, это может быть важно для графического представления результатов и анализа временных рядов.\n",
        "\n",
        "5.⁠ ⁠*freq* (по умолчанию None):\n",
        "   - Этот параметр позволяет указать частоту временного ряда, если она известна. Например, это может быть 'D' для дневных данных, 'M' для месячных и т.д. Это может быть полезно для автоматического распознавания и отображения частоты при работе с индексами времени.\n",
        "\n",
        "6.⁠ ⁠*missing* (по умолчанию 'none'):\n",
        "   - Этот параметр управляет тем, как будут обрабатываться пропуски в данных. Возможные значения включают 'none', 'drop', или 'raise'. Например, 'drop' удалит записи с пропущенными значениями, тогда как 'raise' выдаст ошибку, если такие значения присутствуют.\n",
        "\n",
        "### Применение модели ARIMA:\n",
        "Модели ARIMA используются для анализа и прогнозирования временных рядов, когда:\n",
        "•⁠  ⁠Данные имеют временную зависимость.\n",
        "•⁠  ⁠Данные стационарные или могут быть сделаны стационарными с помощью разностей.\n",
        "•⁠  ⁠Модель предполагает наличие как авторегрессивной, так и скользящей средней компонент.\n"
      ],
      "metadata": {
        "id": "zhAVPjXN_SXm"
      }
    },
    {
      "cell_type": "code",
      "execution_count": 1,
      "metadata": {
        "id": "kDurQWrO_HJi"
      },
      "outputs": [],
      "source": [
        "#импорт библиотек\n",
        "import pandas as pd\n",
        "import numpy as np\n",
        "import matplotlib.pyplot as plt\n",
        "import statsmodels.api as sm\n",
        "from statsmodels.tsa.arima.model import ARIMA\n",
        "from statsmodels.tsa.stattools import adfuller, kpss\n",
        "from statsmodels.graphics.tsaplots import plot_acf, plot_pacf"
      ]
    },
    {
      "cell_type": "code",
      "source": [
        "#создание данных\n",
        "data = {\n",
        "    'date': pd.date_range(start='1/1/2022', periods = 12, freq = 'M'),\n",
        "    'sales': [1000, 1250, 5000, 65000,15000, 34908, 57839, 75860, 73478, 657484, 38765, 28494]\n",
        "}\n",
        "\n",
        "df = pd.DataFrame(data)"
      ],
      "metadata": {
        "colab": {
          "base_uri": "https://localhost:8080/"
        },
        "id": "XR5_ZxtI_scP",
        "outputId": "6f568daa-b8fa-4299-bbd2-8223384c6a30"
      },
      "execution_count": 2,
      "outputs": [
        {
          "output_type": "stream",
          "name": "stderr",
          "text": [
            "<ipython-input-2-d8a6375193fa>:3: FutureWarning: 'M' is deprecated and will be removed in a future version, please use 'ME' instead.\n",
            "  'date': pd.date_range(start='1/1/2022', periods = 12, freq = 'M'),\n"
          ]
        }
      ]
    },
    {
      "cell_type": "code",
      "source": [
        "#проверяем\n",
        "display(df.head())\n",
        "display(df.info())"
      ],
      "metadata": {
        "colab": {
          "base_uri": "https://localhost:8080/",
          "height": 374
        },
        "id": "Gs9Ppd1B_spy",
        "outputId": "1bc4872b-fb0b-457c-d8c6-32dc94fbf1d7"
      },
      "execution_count": 3,
      "outputs": [
        {
          "output_type": "display_data",
          "data": {
            "text/plain": [
              "        date  sales\n",
              "0 2022-01-31   1000\n",
              "1 2022-02-28   1250\n",
              "2 2022-03-31   5000\n",
              "3 2022-04-30  65000\n",
              "4 2022-05-31  15000"
            ],
            "text/html": [
              "\n",
              "  <div id=\"df-17baae89-5bff-448c-9d5b-bc554db6148e\" class=\"colab-df-container\">\n",
              "    <div>\n",
              "<style scoped>\n",
              "    .dataframe tbody tr th:only-of-type {\n",
              "        vertical-align: middle;\n",
              "    }\n",
              "\n",
              "    .dataframe tbody tr th {\n",
              "        vertical-align: top;\n",
              "    }\n",
              "\n",
              "    .dataframe thead th {\n",
              "        text-align: right;\n",
              "    }\n",
              "</style>\n",
              "<table border=\"1\" class=\"dataframe\">\n",
              "  <thead>\n",
              "    <tr style=\"text-align: right;\">\n",
              "      <th></th>\n",
              "      <th>date</th>\n",
              "      <th>sales</th>\n",
              "    </tr>\n",
              "  </thead>\n",
              "  <tbody>\n",
              "    <tr>\n",
              "      <th>0</th>\n",
              "      <td>2022-01-31</td>\n",
              "      <td>1000</td>\n",
              "    </tr>\n",
              "    <tr>\n",
              "      <th>1</th>\n",
              "      <td>2022-02-28</td>\n",
              "      <td>1250</td>\n",
              "    </tr>\n",
              "    <tr>\n",
              "      <th>2</th>\n",
              "      <td>2022-03-31</td>\n",
              "      <td>5000</td>\n",
              "    </tr>\n",
              "    <tr>\n",
              "      <th>3</th>\n",
              "      <td>2022-04-30</td>\n",
              "      <td>65000</td>\n",
              "    </tr>\n",
              "    <tr>\n",
              "      <th>4</th>\n",
              "      <td>2022-05-31</td>\n",
              "      <td>15000</td>\n",
              "    </tr>\n",
              "  </tbody>\n",
              "</table>\n",
              "</div>\n",
              "    <div class=\"colab-df-buttons\">\n",
              "\n",
              "  <div class=\"colab-df-container\">\n",
              "    <button class=\"colab-df-convert\" onclick=\"convertToInteractive('df-17baae89-5bff-448c-9d5b-bc554db6148e')\"\n",
              "            title=\"Convert this dataframe to an interactive table.\"\n",
              "            style=\"display:none;\">\n",
              "\n",
              "  <svg xmlns=\"http://www.w3.org/2000/svg\" height=\"24px\" viewBox=\"0 -960 960 960\">\n",
              "    <path d=\"M120-120v-720h720v720H120Zm60-500h600v-160H180v160Zm220 220h160v-160H400v160Zm0 220h160v-160H400v160ZM180-400h160v-160H180v160Zm440 0h160v-160H620v160ZM180-180h160v-160H180v160Zm440 0h160v-160H620v160Z\"/>\n",
              "  </svg>\n",
              "    </button>\n",
              "\n",
              "  <style>\n",
              "    .colab-df-container {\n",
              "      display:flex;\n",
              "      gap: 12px;\n",
              "    }\n",
              "\n",
              "    .colab-df-convert {\n",
              "      background-color: #E8F0FE;\n",
              "      border: none;\n",
              "      border-radius: 50%;\n",
              "      cursor: pointer;\n",
              "      display: none;\n",
              "      fill: #1967D2;\n",
              "      height: 32px;\n",
              "      padding: 0 0 0 0;\n",
              "      width: 32px;\n",
              "    }\n",
              "\n",
              "    .colab-df-convert:hover {\n",
              "      background-color: #E2EBFA;\n",
              "      box-shadow: 0px 1px 2px rgba(60, 64, 67, 0.3), 0px 1px 3px 1px rgba(60, 64, 67, 0.15);\n",
              "      fill: #174EA6;\n",
              "    }\n",
              "\n",
              "    .colab-df-buttons div {\n",
              "      margin-bottom: 4px;\n",
              "    }\n",
              "\n",
              "    [theme=dark] .colab-df-convert {\n",
              "      background-color: #3B4455;\n",
              "      fill: #D2E3FC;\n",
              "    }\n",
              "\n",
              "    [theme=dark] .colab-df-convert:hover {\n",
              "      background-color: #434B5C;\n",
              "      box-shadow: 0px 1px 3px 1px rgba(0, 0, 0, 0.15);\n",
              "      filter: drop-shadow(0px 1px 2px rgba(0, 0, 0, 0.3));\n",
              "      fill: #FFFFFF;\n",
              "    }\n",
              "  </style>\n",
              "\n",
              "    <script>\n",
              "      const buttonEl =\n",
              "        document.querySelector('#df-17baae89-5bff-448c-9d5b-bc554db6148e button.colab-df-convert');\n",
              "      buttonEl.style.display =\n",
              "        google.colab.kernel.accessAllowed ? 'block' : 'none';\n",
              "\n",
              "      async function convertToInteractive(key) {\n",
              "        const element = document.querySelector('#df-17baae89-5bff-448c-9d5b-bc554db6148e');\n",
              "        const dataTable =\n",
              "          await google.colab.kernel.invokeFunction('convertToInteractive',\n",
              "                                                    [key], {});\n",
              "        if (!dataTable) return;\n",
              "\n",
              "        const docLinkHtml = 'Like what you see? Visit the ' +\n",
              "          '<a target=\"_blank\" href=https://colab.research.google.com/notebooks/data_table.ipynb>data table notebook</a>'\n",
              "          + ' to learn more about interactive tables.';\n",
              "        element.innerHTML = '';\n",
              "        dataTable['output_type'] = 'display_data';\n",
              "        await google.colab.output.renderOutput(dataTable, element);\n",
              "        const docLink = document.createElement('div');\n",
              "        docLink.innerHTML = docLinkHtml;\n",
              "        element.appendChild(docLink);\n",
              "      }\n",
              "    </script>\n",
              "  </div>\n",
              "\n",
              "\n",
              "<div id=\"df-a756952a-f057-4127-b108-2d235ed6bc66\">\n",
              "  <button class=\"colab-df-quickchart\" onclick=\"quickchart('df-a756952a-f057-4127-b108-2d235ed6bc66')\"\n",
              "            title=\"Suggest charts\"\n",
              "            style=\"display:none;\">\n",
              "\n",
              "<svg xmlns=\"http://www.w3.org/2000/svg\" height=\"24px\"viewBox=\"0 0 24 24\"\n",
              "     width=\"24px\">\n",
              "    <g>\n",
              "        <path d=\"M19 3H5c-1.1 0-2 .9-2 2v14c0 1.1.9 2 2 2h14c1.1 0 2-.9 2-2V5c0-1.1-.9-2-2-2zM9 17H7v-7h2v7zm4 0h-2V7h2v10zm4 0h-2v-4h2v4z\"/>\n",
              "    </g>\n",
              "</svg>\n",
              "  </button>\n",
              "\n",
              "<style>\n",
              "  .colab-df-quickchart {\n",
              "      --bg-color: #E8F0FE;\n",
              "      --fill-color: #1967D2;\n",
              "      --hover-bg-color: #E2EBFA;\n",
              "      --hover-fill-color: #174EA6;\n",
              "      --disabled-fill-color: #AAA;\n",
              "      --disabled-bg-color: #DDD;\n",
              "  }\n",
              "\n",
              "  [theme=dark] .colab-df-quickchart {\n",
              "      --bg-color: #3B4455;\n",
              "      --fill-color: #D2E3FC;\n",
              "      --hover-bg-color: #434B5C;\n",
              "      --hover-fill-color: #FFFFFF;\n",
              "      --disabled-bg-color: #3B4455;\n",
              "      --disabled-fill-color: #666;\n",
              "  }\n",
              "\n",
              "  .colab-df-quickchart {\n",
              "    background-color: var(--bg-color);\n",
              "    border: none;\n",
              "    border-radius: 50%;\n",
              "    cursor: pointer;\n",
              "    display: none;\n",
              "    fill: var(--fill-color);\n",
              "    height: 32px;\n",
              "    padding: 0;\n",
              "    width: 32px;\n",
              "  }\n",
              "\n",
              "  .colab-df-quickchart:hover {\n",
              "    background-color: var(--hover-bg-color);\n",
              "    box-shadow: 0 1px 2px rgba(60, 64, 67, 0.3), 0 1px 3px 1px rgba(60, 64, 67, 0.15);\n",
              "    fill: var(--button-hover-fill-color);\n",
              "  }\n",
              "\n",
              "  .colab-df-quickchart-complete:disabled,\n",
              "  .colab-df-quickchart-complete:disabled:hover {\n",
              "    background-color: var(--disabled-bg-color);\n",
              "    fill: var(--disabled-fill-color);\n",
              "    box-shadow: none;\n",
              "  }\n",
              "\n",
              "  .colab-df-spinner {\n",
              "    border: 2px solid var(--fill-color);\n",
              "    border-color: transparent;\n",
              "    border-bottom-color: var(--fill-color);\n",
              "    animation:\n",
              "      spin 1s steps(1) infinite;\n",
              "  }\n",
              "\n",
              "  @keyframes spin {\n",
              "    0% {\n",
              "      border-color: transparent;\n",
              "      border-bottom-color: var(--fill-color);\n",
              "      border-left-color: var(--fill-color);\n",
              "    }\n",
              "    20% {\n",
              "      border-color: transparent;\n",
              "      border-left-color: var(--fill-color);\n",
              "      border-top-color: var(--fill-color);\n",
              "    }\n",
              "    30% {\n",
              "      border-color: transparent;\n",
              "      border-left-color: var(--fill-color);\n",
              "      border-top-color: var(--fill-color);\n",
              "      border-right-color: var(--fill-color);\n",
              "    }\n",
              "    40% {\n",
              "      border-color: transparent;\n",
              "      border-right-color: var(--fill-color);\n",
              "      border-top-color: var(--fill-color);\n",
              "    }\n",
              "    60% {\n",
              "      border-color: transparent;\n",
              "      border-right-color: var(--fill-color);\n",
              "    }\n",
              "    80% {\n",
              "      border-color: transparent;\n",
              "      border-right-color: var(--fill-color);\n",
              "      border-bottom-color: var(--fill-color);\n",
              "    }\n",
              "    90% {\n",
              "      border-color: transparent;\n",
              "      border-bottom-color: var(--fill-color);\n",
              "    }\n",
              "  }\n",
              "</style>\n",
              "\n",
              "  <script>\n",
              "    async function quickchart(key) {\n",
              "      const quickchartButtonEl =\n",
              "        document.querySelector('#' + key + ' button');\n",
              "      quickchartButtonEl.disabled = true;  // To prevent multiple clicks.\n",
              "      quickchartButtonEl.classList.add('colab-df-spinner');\n",
              "      try {\n",
              "        const charts = await google.colab.kernel.invokeFunction(\n",
              "            'suggestCharts', [key], {});\n",
              "      } catch (error) {\n",
              "        console.error('Error during call to suggestCharts:', error);\n",
              "      }\n",
              "      quickchartButtonEl.classList.remove('colab-df-spinner');\n",
              "      quickchartButtonEl.classList.add('colab-df-quickchart-complete');\n",
              "    }\n",
              "    (() => {\n",
              "      let quickchartButtonEl =\n",
              "        document.querySelector('#df-a756952a-f057-4127-b108-2d235ed6bc66 button');\n",
              "      quickchartButtonEl.style.display =\n",
              "        google.colab.kernel.accessAllowed ? 'block' : 'none';\n",
              "    })();\n",
              "  </script>\n",
              "</div>\n",
              "    </div>\n",
              "  </div>\n"
            ],
            "application/vnd.google.colaboratory.intrinsic+json": {
              "type": "dataframe",
              "summary": "{\n  \"name\": \"display(df\",\n  \"rows\": 5,\n  \"fields\": [\n    {\n      \"column\": \"date\",\n      \"properties\": {\n        \"dtype\": \"date\",\n        \"min\": \"2022-01-31 00:00:00\",\n        \"max\": \"2022-05-31 00:00:00\",\n        \"num_unique_values\": 5,\n        \"samples\": [\n          \"2022-02-28 00:00:00\",\n          \"2022-05-31 00:00:00\",\n          \"2022-03-31 00:00:00\"\n        ],\n        \"semantic_type\": \"\",\n        \"description\": \"\"\n      }\n    },\n    {\n      \"column\": \"sales\",\n      \"properties\": {\n        \"dtype\": \"number\",\n        \"std\": 27180,\n        \"min\": 1000,\n        \"max\": 65000,\n        \"num_unique_values\": 5,\n        \"samples\": [\n          1250,\n          15000,\n          5000\n        ],\n        \"semantic_type\": \"\",\n        \"description\": \"\"\n      }\n    }\n  ]\n}"
            }
          },
          "metadata": {}
        },
        {
          "output_type": "stream",
          "name": "stdout",
          "text": [
            "<class 'pandas.core.frame.DataFrame'>\n",
            "RangeIndex: 12 entries, 0 to 11\n",
            "Data columns (total 2 columns):\n",
            " #   Column  Non-Null Count  Dtype         \n",
            "---  ------  --------------  -----         \n",
            " 0   date    12 non-null     datetime64[ns]\n",
            " 1   sales   12 non-null     int64         \n",
            "dtypes: datetime64[ns](1), int64(1)\n",
            "memory usage: 324.0 bytes\n"
          ]
        },
        {
          "output_type": "display_data",
          "data": {
            "text/plain": [
              "None"
            ]
          },
          "metadata": {}
        }
      ]
    },
    {
      "cell_type": "code",
      "source": [
        "# устанавливаем индекс\n",
        "df.set_index('date', inplace=True)"
      ],
      "metadata": {
        "id": "Dv0Ofhqp_sy3"
      },
      "execution_count": 4,
      "outputs": []
    },
    {
      "cell_type": "markdown",
      "source": [
        "# Определяем параметры P, Q в order\n",
        "Проведем тесты для стационарности временного ряда: тест Дики-Фуллера и тест KPSS. Затем мы проанализируем автокорреляцию (ACF) и частичную автокорреляцию (PACF) для определения порядка интегрирования (d) и скользящего среднего (q)"
      ],
      "metadata": {
        "id": "3oiFg5qnH5Jb"
      }
    },
    {
      "cell_type": "markdown",
      "source": [
        "1. ADF-тест\n",
        "проверяет нулевую гипотезу о том, что временной ряд имеет единичный корень (то есть, не стационарен). Если p-value меньше 0.05, мы отвергаем нулевую гипотезу, указывая на то, что ряд стационарен"
      ],
      "metadata": {
        "id": "mPQJ2YWCHVAD"
      }
    },
    {
      "cell_type": "code",
      "source": [
        "# 1. ADF-тест (тест Дики-Фуллера)\n",
        "def adf_test(series):\n",
        "    result = adfuller(series)\n",
        "    print('ADF Statistic:', result[0])\n",
        "    print('p-value:', result[1])\n",
        "    print('Critical Values:')\n",
        "    for key, value in result[4].items():\n",
        "        print(f'   {key}: {value}')\n",
        "\n",
        "print(\"ADF Test Results:\")\n",
        "adf_test(df['sales'])\n"
      ],
      "metadata": {
        "colab": {
          "base_uri": "https://localhost:8080/"
        },
        "id": "WfIDpplXHCYj",
        "outputId": "2d71cc8f-1f8d-49e1-dbc3-52f12803eab4"
      },
      "execution_count": 5,
      "outputs": [
        {
          "output_type": "stream",
          "name": "stdout",
          "text": [
            "ADF Test Results:\n",
            "ADF Statistic: -3.0993784436534906\n",
            "p-value: 0.026599220643293734\n",
            "Critical Values:\n",
            "   1%: -4.223238279489106\n",
            "   5%: -3.189368925619835\n",
            "   10%: -2.729839421487603\n"
          ]
        }
      ]
    },
    {
      "cell_type": "markdown",
      "source": [
        "2. KPSS тест\n",
        "проверяет нулевую гипотезу о том, что временной ряд стационарен. Если p-value меньше 0.05, мы отвергаем нулевую гипотезу и можем говорить о нестационарности ряда.\n"
      ],
      "metadata": {
        "id": "Td6BvAx5Hku4"
      }
    },
    {
      "cell_type": "code",
      "source": [
        "# 2. KPSS тест\n",
        "def kpss_test(series):\n",
        "    statistic, p_value, lags, critical_values = kpss(series, regression='c')  # 'c' for constant\n",
        "    print('KPSS Statistic:', statistic)\n",
        "    print('p-value:', p_value)\n",
        "    print('Critical Values:')\n",
        "    for key, value in critical_values.items():\n",
        "        print(f'   {key}: {value}')\n",
        "\n",
        "print(\"\\nKPSS Test Results:\")\n",
        "kpss_test(df['sales'])\n",
        "\n"
      ],
      "metadata": {
        "colab": {
          "base_uri": "https://localhost:8080/"
        },
        "id": "_4r60xHEHCiI",
        "outputId": "af98a059-034e-45fd-ecfe-f9be53f5e08d"
      },
      "execution_count": 6,
      "outputs": [
        {
          "output_type": "stream",
          "name": "stdout",
          "text": [
            "\n",
            "KPSS Test Results:\n",
            "KPSS Statistic: 0.24981328085501528\n",
            "p-value: 0.1\n",
            "Critical Values:\n",
            "   10%: 0.347\n",
            "   5%: 0.463\n",
            "   2.5%: 0.574\n",
            "   1%: 0.739\n"
          ]
        },
        {
          "output_type": "stream",
          "name": "stderr",
          "text": [
            "<ipython-input-6-0d4adfafd7bc>:3: InterpolationWarning: The test statistic is outside of the range of p-values available in the\n",
            "look-up table. The actual p-value is greater than the p-value returned.\n",
            "\n",
            "  statistic, p_value, lags, critical_values = kpss(series, regression='c')  # 'c' for constant\n"
          ]
        }
      ]
    },
    {
      "cell_type": "markdown",
      "source": [
        "в случае нестандартного временного ряда проводится дифференцирование (d=1)"
      ],
      "metadata": {
        "id": "V1Kvmgi0JTMm"
      }
    },
    {
      "cell_type": "markdown",
      "source": [
        "3. ACF и PACF\n",
        "Графики автокорреляционной функции (ACF) и частичной автокорреляционной функции (PACF) помогают определить порядок модели ARIMA, в частности, параметры (p) и (q).\n"
      ],
      "metadata": {
        "id": "5u9jZLttHxZ2"
      }
    },
    {
      "cell_type": "code",
      "source": [
        "# 3. ACF и PACF\n",
        "fig, axes = plt.subplots(1, 2, figsize=(14, 5))\n",
        "plot_acf(df['sales'], ax=axes[0])\n",
        "plot_pacf(df['sales'], ax=axes[1])\n",
        "axes[0].set_title('ACF')\n",
        "axes[1].set_title('PACF')\n",
        "plt.show()"
      ],
      "metadata": {
        "colab": {
          "base_uri": "https://localhost:8080/",
          "height": 468
        },
        "id": "AkXOBBDyHSjv",
        "outputId": "32eed6bc-368f-4aae-e1bc-2d72c1bfe2cd"
      },
      "execution_count": 7,
      "outputs": [
        {
          "output_type": "display_data",
          "data": {
            "text/plain": [
              "<Figure size 1400x500 with 2 Axes>"
            ],
            "image/png": "[encoded data removed]"
          },
          "metadata": {}
        }
      ]
    },
    {
      "cell_type": "markdown",
      "source": [
        "ACF показывает, что значения быстро затухают, поэтому можно выбрать небольшое значение q"
      ],
      "metadata": {
        "id": "jQtz3P3OJSKc"
      }
    },
    {
      "cell_type": "code",
      "source": [
        "# ARIMA\n",
        "model = sm.tsa.arima.ARIMA(df['sales'], order = (1,1,1))\n",
        "model_fit = model.fit()"
      ],
      "metadata": {
        "colab": {
          "base_uri": "https://localhost:8080/"
        },
        "id": "cWyt4sgiBVcJ",
        "outputId": "c89a2cfe-5791-4337-caa7-d9c9febe2089"
      },
      "execution_count": 8,
      "outputs": [
        {
          "output_type": "stream",
          "name": "stderr",
          "text": [
            "/usr/local/lib/python3.11/dist-packages/statsmodels/tsa/base/tsa_model.py:473: ValueWarning: No frequency information was provided, so inferred frequency ME will be used.\n",
            "  self._init_dates(dates, freq)\n",
            "/usr/local/lib/python3.11/dist-packages/statsmodels/tsa/base/tsa_model.py:473: ValueWarning: No frequency information was provided, so inferred frequency ME will be used.\n",
            "  self._init_dates(dates, freq)\n",
            "/usr/local/lib/python3.11/dist-packages/statsmodels/tsa/base/tsa_model.py:473: ValueWarning: No frequency information was provided, so inferred frequency ME will be used.\n",
            "  self._init_dates(dates, freq)\n"
          ]
        }
      ]
    },
    {
      "cell_type": "code",
      "source": [
        "# прогноз\n",
        "forecast = model_fit.forecast(steps=3)\n",
        "display(forecast)"
      ],
      "metadata": {
        "colab": {
          "base_uri": "https://localhost:8080/",
          "height": 176
        },
        "id": "43gJbyV6BoXY",
        "outputId": "64e46ccf-edef-4706-b034-0bd5c88b0dc1"
      },
      "execution_count": 9,
      "outputs": [
        {
          "output_type": "display_data",
          "data": {
            "text/plain": [
              "2023-01-31    145713.758906\n",
              "2023-02-28    132230.850384\n",
              "2023-03-31    133781.688092\n",
              "Freq: ME, Name: predicted_mean, dtype: float64"
            ],
            "text/html": [
              "<div>\n",
              "<style scoped>\n",
              "    .dataframe tbody tr th:only-of-type {\n",
              "        vertical-align: middle;\n",
              "    }\n",
              "\n",
              "    .dataframe tbody tr th {\n",
              "        vertical-align: top;\n",
              "    }\n",
              "\n",
              "    .dataframe thead th {\n",
              "        text-align: right;\n",
              "    }\n",
              "</style>\n",
              "<table border=\"1\" class=\"dataframe\">\n",
              "  <thead>\n",
              "    <tr style=\"text-align: right;\">\n",
              "      <th></th>\n",
              "      <th>predicted_mean</th>\n",
              "    </tr>\n",
              "  </thead>\n",
              "  <tbody>\n",
              "    <tr>\n",
              "      <th>2023-01-31</th>\n",
              "      <td>145713.758906</td>\n",
              "    </tr>\n",
              "    <tr>\n",
              "      <th>2023-02-28</th>\n",
              "      <td>132230.850384</td>\n",
              "    </tr>\n",
              "    <tr>\n",
              "      <th>2023-03-31</th>\n",
              "      <td>133781.688092</td>\n",
              "    </tr>\n",
              "  </tbody>\n",
              "</table>\n",
              "</div><br><label><b>dtype:</b> float64</label>"
            ]
          },
          "metadata": {}
        }
      ]
    },
    {
      "cell_type": "markdown",
      "source": [
        "# 2. SQL"
      ],
      "metadata": {
        "id": "XTfPoYltKWF5"
      }
    },
    {
      "cell_type": "markdown",
      "source": [
        "OVER - итоговая сумма будет вычисляться на основе всех значений ⁠ amount ⁠ для каждой даты в порядке возрастания ⁠ date ⁠.\n"
      ],
      "metadata": {
        "id": "fPjrpysTMEBL"
      }
    },
    {
      "cell_type": "code",
      "source": [
        "#1. OVER - рассчитывает скользящее среднее за последние 12 периодов (включая текущий), агрегируем всю таблицу\n",
        "SELECT\n",
        "    date,\n",
        "    SUM(amount) OVER (ORDER BY date ROWS BETWEEN 11 PRECEDING AND CURRENT ROW) / 12 AS avg_sales\n",
        "FROM\n",
        "    sales\n",
        "ORDER BY\n",
        "    date;"
      ],
      "metadata": {
        "id": "FbHq5ZXqKTry"
      },
      "execution_count": null,
      "outputs": []
    },
    {
      "cell_type": "markdown",
      "source": [
        " ⁠ OVER ⁠ в этом случае производит агрегирование значений только в пределах определённого окна, и поскольку не указывается ⁠ PARTITION BY ⁠, это окно охватывает всю таблицу.\n"
      ],
      "metadata": {
        "id": "zTJbRmzTLRYq"
      }
    },
    {
      "cell_type": "code",
      "source": [
        "#2. PARTITION BY - рассчет скользящего среднего отдельно для каждой группы(для получения скользящее среднее по отдельным товарам)\n",
        "SELECT\n",
        "    product_id,\n",
        "    date,\n",
        "    SUM(amount) OVER (PARTITION BY product_id ORDER BY date ROWS BETWEEN 11 PRECEDING AND CURRENT ROW) / 12 AS avg_sales\n",
        "FROM\n",
        "    sales\n",
        "ORDER BY\n",
        "    product_id, date;\n"
      ],
      "metadata": {
        "id": "8_4tClO9LGon"
      },
      "execution_count": null,
      "outputs": []
    }
  ]
}